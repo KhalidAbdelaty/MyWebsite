{
  "nbformat": 4,
  "nbformat_minor": 0,
  "metadata": {
    "colab": {
      "provenance": [],
      "authorship_tag": "ABX9TyN4gqcaF/pDjUOLebwA/KiK",
      "include_colab_link": true
    },
    "kernelspec": {
      "name": "python3",
      "display_name": "Python 3"
    },
    "language_info": {
      "name": "python"
    }
  },
  "cells": [
    {
      "cell_type": "markdown",
      "metadata": {
        "id": "view-in-github",
        "colab_type": "text"
      },
      "source": [
        "<a href=\"https://colab.research.google.com/github/KhalidAbdelaty/MyWebsite/blob/main/Task_1.ipynb\" target=\"_parent\"><img src=\"https://colab.research.google.com/assets/colab-badge.svg\" alt=\"Open In Colab\"/></a>"
      ]
    },
    {
      "cell_type": "code",
      "execution_count": 1,
      "metadata": {
        "id": "MZRUORXFxYC4"
      },
      "outputs": [],
      "source": [
        "import pandas as pd\n",
        "from io import StringIO\n",
        "\n",
        "data = StringIO(\"\"\"\n",
        "date,product,category,price,quantity,revenue\n",
        "2022-01-01,Smartphone,Electronics,600,10,6000\n",
        "2022-01-01,Laptop,Electronics,1200,5,6000\n",
        "2022-01-02,T-Shirt,Clothing,20,50,1000\n",
        "2022-01-03,Headphones,Electronics,100,20,2000\n",
        "2022-01-04,T-Shirt,Clothing,20,25,500\n",
        "2022-01-05,Watch,Accessories,150,10,1500\n",
        "2022-01-06,Smartphone,Electronics,600,8,4800\n",
        "2022-01-06,Tablet,Electronics,400,5,2000\n",
        "2022-01-07,Coat,Clothing,100,10,1000\n",
        "2022-01-08,Smartwatch,Accessories,200,12,2400\n",
        "2022-01-09,Speaker,Electronics,80,15,1200\n",
        "2022-01-10,Backpack,Bags,50,20,1000\n",
        "2022-01-11,Hoodie,Clothing,40,30,1200\n",
        "2022-01-12,Smartphone,Electronics,600,12,7200\n",
        "2022-01-13,Sneakers,Shoes,80,10,800\n",
        "2022-01-14,Wallet,Accessories,30,40,1200\n",
        "2022-01-15,Jeans,Clothing,50,20,1000\n",
        "2022-01-16,Smartwatch,Accessories,200,5,1000\n",
        "2022-01-17,Smartphone,Electronics,600,6,3600\n",
        "2022-01-18,Coat,Clothing,100,8,800\n",
        "2022-01-19,Speaker,Electronics,80,20,1600\n",
        "2022-01-20,Backpack,Bags,50,15,750\n",
        "2022-01-21,T-Shirt,Clothing,20,40,800\n",
        "2022-01-22,Smartphone,Electronics,600,7,4200\n",
        "2022-01-23,Tablet,Electronics,400,3,1200\n",
        "2022-01-24,Hoodie,Clothing,40,15,600\n",
        "2022-01-25,Smartwatch,Accessories,200,8,1600\n",
        "2022-01-26,Sneakers,Shoes,80,12,960\n",
        "2022-01-27,Coat,Clothing,100,5,500\n",
        "2022-01-28,Speaker,Electronics,80,8,640\n",
        "2022-01-29,T-Shirt,Clothing,20,30,600\n",
        "2022-01-30,Smartphone,Electronics,600,9,5400\n",
        "2022-01-31,Jeans,Clothing,50,15,750\n",
        "2022-02-01,T-Shirt,Clothing,20,35,700\n",
        "2022-02-02,Smartphone,Electronics,600,10,6000\n",
        "2022-02-03,Headphones,Electronics,100,25,2500\n",
        "2022-02-04,Coat,Clothing,100,12,1200\n",
        "2022-02-05,Watch,Accessories,150,8,1200\n",
        "2022-02-06,Smartphone,Electronics,600,7,4200\n",
        "2022-02-07,Speaker,Electronics,80,18,1440\n",
        "2022-02-08,Backpack,Bags,50,25,1250\n",
        "2022-02-09,Smartwatch,Accessories,200,6,1200\n",
        "2022-02-10,Jeans,Clothing,50,10,500\n",
        "2022-02-11,T-Shirt,Clothing,20,20,400\n",
        "2022-02-12,Smartphone,Electronics,600,12,7200\n",
        "2022-02-13,Sneakers,Shoes,80,8,640\n",
        "2022-02-14,Wallet,Accessories,30,30,900\n",
        "2022-02-15,Tablet,Electronics,400,4,1600\n",
        "2022-02-16,Smartwatch,Accessories,200,7,1400\n",
        "2022-02-17,Smartphone,Electronics,600,6,3600\n",
        "2022-02-18,Hoodie,Clothing,40,20,800\n",
        "2022-02-19,Speaker,Electronics,80,12,960\n",
        "2022-02-20,Backpack,Bags,50,18,900\n",
        "2022-02-21,Sneakers,Shoes,80,5,400\n",
        "2022-02-22,Smartphone,Electronics,600,8,4800\n",
        "2022-02-23,Coat,Clothing,100,6,600\n",
        "2022-02-24,T-Shirt,Clothing,20,15,300\n",
        "2022-02-25,Smartwatch,Accessories,200,10,2000\n",
        "2022-02-26,Jeans,Clothing,50,18,900\n",
        "2022-02-27,Smartphone,Electronics,600,9,5400\n",
        "2022-02-28,Watch,Accessories,150,5,750\n",
        "2022-03-01,T-Shirt,Clothing,20,40,800\n",
        "2022-03-02,Smartphone,Electronics,600,10,6000\n",
        "2022-03-03,Headphones,Electronics,100,15,1500\n",
        "2022-03-04,Coat,Clothing,100,20,2000\n",
        "2022-03-05,Smartwatch,Accessories,200,12,2400\n",
        "2022-03-06,Smartphone,Electronics,600,7,4200\n",
        "2022-03-07,Speaker,Electronics,80,10,800\n",
        "2022-03-08,Backpack,Bags,50,15,750\n",
        "2022-03-09,Jeans,Clothing,50,25,1250\n",
        "2022-03-10,T-Shirt,Clothing,20,30,600\n",
        "2022-03-11,Hoodie,Clothing,40,10,400\n",
        "2022-03-12,Smartphone,Electronics,600,12,7200\n",
        "2022-03-13,Sneakers,Shoes,80,15,1200\n",
        "2022-03-14,Wallet,Accessories,30,40,1200\n",
        "2022-03-15,Smartwatch,Accessories,200,5,1000\n",
        "2022-03-16,Smartphone,Electronics,600,6,3600\n",
        "2022-03-17,Coat,Clothing,100,8,800\n",
        "2022-03-18,Speaker,Electronics,80,20,1600\n",
        "2022-03-19,Backpack,Bags,50,10,500\n",
        "2022-03-20,T-Shirt,Clothing,20,25,500\n",
        "2022-03-21,Tablet,Electronics,400,3,1200\n",
        "2022-03-22,Smartphone,Electronics,600,7,4200\n",
        "2022-03-23,Sneakers,Shoes,80,12,960\n",
        "2022-03-24,T-Shirt,Clothing,20,15,300\n",
        "2022-03-25,Smartwatch,Accessories,200,8,1600\n",
        "2022-03-26,Jeans,Clothing,50,20,1000\n",
        "2022-03-27,Smartphone,Electronics,600,9,5400\n",
        "2022-03-28,Watch,Accessories,150,10,1500\n",
        "2022-03-29,Coat,Clothing,100,5,500\n",
        "2022-03-30,Headphones,Electronics,100,10,1000\n",
        "2022-03-31,Smartphone,Electronics,600,11,6600\n",
        "2022-04-01,Hoodie,Clothing,40,30,1200\n",
        "2022-04-02,Smartphone,Electronics,600,10,6000\n",
        "2022-04-03,Speaker,Electronics,80,25,2000\n",
        "2022-04-04,Coat,Clothing,100,15,1500\n",
        "2022-04-05,Smartwatch,Accessories,200,10,\n",
        "2022-04-06,Smartphone,Electronics,600,7,4200\n",
        "2022-04-07,Backpack,Bags,50,18,900\n",
        "2022-04-08,T-Shirt,Clothing,20,35,700\n",
        "2022-04-09,Jeans,Clothing,50,10,500\n",
        "2022-04-10,Watch,Accessories,150,12,1800\n",
        "2022-04-11,Hoodie,Clothing,40,20,800\n",
        "2022-04-12,Smartphone,Electronics,600,12,7200\n",
        "2022-04-13,Sneakers,Shoes,80,8,640\n",
        "2022-04-14,Wallet,Accessories,30,30,900\n",
        "2022-04-15,Smartwatch,Accessories,200,5,1000\n",
        "2022-04-16,Smartphone,Electronics,600,6,3600\n",
        "2022-04-17,Coat,Clothing,100,8,800\n",
        "2022-04-18,Speaker,Electronics,80,20,1600\n",
        "2022-04-19,Backpack,Bags,50,15,750\n",
        "2022-04-20,T-Shirt,Clothing,20,20,400\n",
        "2022-04-21,Tablet,Electronics,400,6,2400\n",
        "2022-04-22,Smartphone,Electronics,600,7,4200\n",
        "2022-04-23,Sneakers,Shoes,80,12,960\n",
        "2022-04-24,T-Shirt,Clothing,20,25,500\n",
        "2022-04-25,Smartwatch,Accessories,200,8,1600\n",
        "2022-04-26,Jeans,Clothing,50,15,750\n",
        "2022-04-27,Smartphone,Electronics,600,9,5400\n",
        "2022-04-28,Watch,Accessories,150,10,1500\n",
        "2022-04-29,Coat,Clothing,100,5,500\n",
        "2022-04-30,Headphones,Electronics,100,15,1500\n",
        "2022-05-01,Smartphone,Electronics,600,,6600\n",
        "2022-05-02,Hoodie,Clothing,40,20,800\n",
        "2022-05-03,Smartphone,Electronics,600,10,6000\n",
        "2022-05-04,Speaker,Electronics,80,22,1760\n",
        "2022-05-05,Coat,Clothing,100,18,1800\n",
        "2022-05-06,Smartwatch,Accessories,200,12,2400\n",
        "2022-05-07,Smartphone,Electronics,600,7,4200\n",
        "2022-05-08,Backpack,Bags,50,20,1000\n",
        "2022-05-09,T-Shirt,Clothing,20,30,600\n",
        "2022-05-10,Jeans,Clothing,50,25,1250\n",
        "2022-05-11,Watch,Accessories,150,15,2250\n",
        "2022-05-12,Hoodie,Clothing,40,15,600\n",
        "2022-05-13,Smartphone,Electronics,600,12,7200\n",
        "2022-05-14,Sneakers,Shoes,80,8,640\n",
        "2022-05-15,Wallet,Accessories,30,35,1050\n",
        "2022-05-16,Smartwatch,Accessories,200,9,1800\n",
        "2022-05-17,Smartphone,Electronics,600,6,3600\n",
        "2022-05-18,Coat,Clothing,100,8,800\n",
        "2022-05-19,Speaker,Electronics,80,20,1600\n",
        "2022-05-20,Backpack,Bags,50,15,750\n",
        "2022-05-21,T-Shirt,Clothing,20,25,500\n",
        "2022-05-22,Smartphone,Electronics,600,7,4200\n",
        "2022-05-23,Sneakers,Shoes,80,12,960\n",
        "2022-05-24,T-Shirt,Clothing,20,15,300\n",
        "2022-05-25,Smartwatch,Accessories,200,8,1600\n",
        "2022-05-26,Jeans,Clothing,50,20,1000\n",
        "2022-05-27,Smartphone,Electronics,600,9,5400\n",
        "2022-05-28,Watch,Accessories,150,5,750\n",
        "2022-05-29,Coat,Clothing,100,5,500\n",
        "2022-05-30,Headphones,Electronics,100,10,1000\n",
        "2022-05-31,Smartphone,Electronics,600,11,6600\n",
        "2022-06-01,Hoodie,Clothing,40,30,1200\n",
        "2022-06-02,Smartphone,Electronics,600,10,6000\n",
        "2022-06-03,Speaker,Electronics,80,25,2000\n",
        "2022-06-04,Coat,Clothing,100,15,1500\n",
        "2022-06-05,Smartwatch,Accessories,200,10,2000\n",
        "2022-06-06,Smartphone,Electronics,600,7,4200\n",
        "2022-06-07,Backpack,Bags,50,18,900\n",
        "2022-06-08,T-Shirt,Clothing,20,35,700\n",
        "2022-06-09,Jeans,Clothing,50,10,500\n",
        "2022-06-10,Watch,Accessories,150,12,1800\n",
        "2022-06-11,Hoodie,Clothing,40,20,800\n",
        "2022-06-12,Smartphone,Electronics,600,12,7200\n",
        "2022-06-13,Sneakers,Shoes,80,15,1200\n",
        "2022-06-14,Wallet,Accessories,30,40,1200\n",
        "2022-06-15,Smartwatch,Accessories,200,5,1000\n",
        "2022-06-16,Smartphone,Electronics,600,6,3600\n",
        "2022-06-17,Coat,Clothing,100,8,800\n",
        "2022-06-18,Speaker,Electronics,80,20,1600\n",
        "2022-06-19,Backpack,Bags,50,15,750\n",
        "2022-06-20,T-Shirt,Clothing,20,20,400\n",
        "2022-06-21,Tablet,Electronics,400,6,2400\n",
        "2022-06-22,Smartphone,Electronics,600,7,4200\n",
        "2022-06-23,Sneakers,Shoes,80,12,960\n",
        "2022-06-24,T-Shirt,Clothing,20,25,500\n",
        "2022-06-25,Smartwatch,Accessories,200,8,1600\n",
        "2022-06-26,Jeans,Clothing,50,15,750\n",
        "2022-06-27,Smartphone,Electronics,600,9,5400\n",
        "2022-06-28,Watch,Accessories,150,10,1500\n",
        "2022-06-29,Coat,Clothing,100,5,500\n",
        "2022-06-30,Headphones,Electronics,100,15,1500\n",
        "2022-07-01,Smartphone,Electronics,600,11,6600\n",
        "2022-07-02,Hoodie,Clothing,40,20,800\n",
        "2022-07-03,Smartphone,Electronics,600,10,6000\n",
        "2022-07-04,Speaker,Electronics,80,22,1760\n",
        "2022-07-05,Coat,Clothing,100,18,1800\n",
        "2022-07-06,Smartwatch,Accessories,200,12,2400\n",
        "2022-07-07,Smartphone,Electronics,600,7,4200\n",
        "2022-07-08,Backpack,Bags,50,20,1000\n",
        "2022-07-09,T-Shirt,Clothing,20,30,600\n",
        "2022-07-10,Jeans,Clothing,50,25,1250\n",
        "2022-07-11,Watch,Accessories,,15,2250\n",
        "2022-07-12,Hoodie,Clothing,40,15,600\n",
        "2022-07-13,Smartphone,Electronics,600,12,7200\n",
        "2022-07-14,Sneakers,Shoes,80,8,640\n",
        "2022-07-15,Wallet,Accessories,30,35,1050\n",
        "2022-07-16,Smartwatch,Accessories,200,9,1800\n",
        "2022-07-17,Smartphone,Electronics,600,6,3600\n",
        "2022-07-18,Coat,Clothing,100,8,800\n",
        "2022-07-19,Speaker,Electronics,80,20,1600\n",
        "2022-07-20,Backpack,Bags,50,15,750\n",
        "2022-07-21,T-Shirt,Clothing,20,25,500\n",
        "2022-07-22,Smartphone,Electronics,600,7,4200\n",
        "2022-07-23,Sneakers,Shoes,80,12,960\n",
        "2022-07-24,T-Shirt,Clothing,20,15,300\n",
        "2022-07-25,Smartwatch,Accessories,200,8,1600\n",
        "2022-07-26,Jeans,Clothing,50,20,1000\n",
        "2022-07-27,Smartphone,Electronics,600,9,5400\n",
        "2022-07-28,Watch,Accessories,150,5,750\n",
        "2022-07-29,Coat,Clothing,100,5,500\n",
        "2022-07-30,Headphones,Electronics,100,10,1000\n",
        "2022-07-31,Smartphone,Electronics,600,11,6600\n",
        "2022-08-01,Hoodie,Clohting,40,30,1200\n",
        "2022-08-02,Smartphone,Electronics,600,10,6000\n",
        "2022-08-03,Speaker,Electronics,80,25,2000\n",
        "2022-08-04,Coat,Clothing,100,15,1500\n",
        "2022-08-05,Smartwatch,Accessories,200,10,2000\n",
        "2022-08-06,Smartphone,Electronics,600,7,4200\n",
        "2022-08-07,Backpack,Bags,50,18,900\n",
        "2022-08-08,T-Shirt,Clothing,20,35,700\n",
        "2022-08-09,Jeans,Clothing,50,10,500\n",
        "2022-08-10,Watch,Accessories,150,12,1800\n",
        "2022-08-11,Hoodie,Clothing,40,20,800\n",
        "2022-08-12,Smartphone,Electronics,600,12,7200\n",
        "2022-08-13,Sneakers,Shoes,80,15,1200\n",
        "2022-08-14,Wallet,Accessories,30,40,1200\n",
        "2022-08-15,Smartwatch,Accessories,200,5,1000\n",
        "2022-08-16,Smartphone,Electronics,600,6,3600\n",
        "2022-08-17,Coat,Clothing,100,8,800\n",
        "2022-08-18,Speaker,Electronics,80,20,1600\n",
        "2022-08-19,Backpack,Bags,50,15,750\n",
        "2022-08-20,T-Shirt,Clothing,20,20,400\n",
        "2022-08-21,Tablet,Electronics,400,6,2400\n",
        "2022-08-22,Smartphone,Electronics,600,7,4200\n",
        "2022-08-23,Sneakers,Shoes,80,12,960\n",
        "2022-08-24,T-Shirt,Clothing,20,25,500\n",
        "2022-08-25,Smartwatch,Accessories,200,8,1600\n",
        "2022-08-26,Jeans,Clothing,50,15,750\n",
        "2022-08-27,Smartphone,Electronics,600,9,5400\n",
        "2022-08-28,Watch,Accessories,150,10,1500\n",
        "2022-08-29,Coat,Clothing,100,5,500\n",
        "2022-08-30,Headphones,Electronics,100,15,1500\n",
        "2022-08-31,Smartphone,Electronics,600,11,6600\n",
        "2022-09-01,Hoodie,Clothing,40,20,800\n",
        "2022-09-02,Smartphone,Electronics,600,10,6000\n",
        "2022-09-03,Speaker,Electronics,80,22,1760\n",
        "2022-09-04,Coat,Clothing,100,18,1800\n",
        "2022-09-05,Smartwatch,Accessories,200,12,2400\n",
        "2022-09-06,Smartphone,Electronics,600,7,4200\n",
        "2022-09-07,Backpack,Bags,50,20,1000\n",
        "2022-09-08,T-Shirt,Clothing,20,30,600\n",
        "2022-09-09,Jeans,Clothing,50,25,1250\n",
        "2022-09-10,Watch,Accessories,150,15,2250\n",
        "2022-09-11,Hoodie,Clothing,40,15,600\n",
        "2022-09-12,Smartphone,Electronics,600,12,7200\n",
        "2022-09-13,Sneakers,Shoes,80,8,640\n",
        "2022-09-14,Wallet,Accessories,30,35,1050\n",
        "2022-09-15,Smartwatch,Accessories,200,9,1800\n",
        "2022-09-16,Smartphone,Electronics,600,6,3600\n",
        "2022-09-17,Coat,Clothing,100,8,800\n",
        "2022-09-18,Speaker,Electronics,80,20,1600\n",
        "2022-09-19,Backpack,Bags,50,15,750\n",
        "2022-09-20,T-Shirt,Clothing,20,25,500\n",
        "2022-09-21,Smartphone,Electronics,600,7,4200\n",
        "2022-09-22,Sneakers,Shoes,80,12,960\n",
        "2022-09-23,T-Shirt,Clothing,20,15,300\n",
        "2022-09-24,Smartwatch,Accessories,200,8,1600\n",
        "2022-09-25,Jeans,Clothing,50,20,1000\n",
        "2022-09-26,Smartphone,Electronics,600,9,5400\n",
        "2022-09-27,Watch,Accessories,150,5,750\n",
        "2022-09-28,Coat,Clothing,100,5,500\n",
        "2022-09-29,Headphones,Electronics,100,10,1000\n",
        "2022-09-30,Smartphone,Electronics,600,11,6600\n",
        "2022-10-01,Hoodie,Clothing,40,30,1200\n",
        "2022-10-01,Hoodie,Clothing,40,30,1200\n",
        "2022-10-02,Smartphone,Electronics,600,10,6000\n",
        "2022-10-03,Speaker,Electronics,80,25,2000\n",
        "2022-10-04,Coat,Clothing,100,15,1500\n",
        "2022-10-05,Smartwatch,Accessories,200,10,2000\n",
        "2022-10-06,Smartphone,Electronics,600,7,4200\n",
        "2022-10-07,Backpack,Bags,50,18,900\n",
        "2022-10-08,T-Shirt,Clothing,20,35,700\n",
        "2022-10-09,Jeans,Clothing,50,10,500\n",
        "2022-10-10,Watch,Accessories,150,12,1800\n",
        "2022-10-11,Hoodie,Clothing,40,20,800\n",
        "2022-10-12,Smartphone,Electronics,600,12,7200\n",
        "2022-10-13,Sneakers,Shoes,80,15,1200\n",
        "2022-10-14,Wallet,Accessories,30,40,1200\n",
        "2022-10-15,Smartwatch,Accessories,200,5,1000\n",
        "2022-10-16,Smartphone,Electronics,600,6,3600\n",
        "2022-10-17,Coat,Clothing,100,8,800\n",
        "2022-10-18,Speaker,Electronics,80,20,1600\n",
        "2022-10-19,Backpack,Bags,50,15,750\n",
        "2022-10-20,T-Shirt,Clothing,20,20,400\n",
        "2022-10-21,Tablet,Electronics,400,6,2400\n",
        "2022-10-22,Smartphone,Electronics,600,7,4200\n",
        "2022-10-23,Sneakers,Shoes,80,12,960\n",
        "2022-10-24,T-Shirt,Clothing,20,25,500\n",
        "2022-10-25,Smartwatch,Accessories,200,8,1600\n",
        "2022-10-26,Jeans,Clothing,50,15,750\n",
        "2022-10-27,Smartphone,Electronics,600,9,5400\n",
        "2022-10-28,Watch,Accessories,150,10,1500\n",
        "2022-10-29,Coat,Clothing,100,5,500\n",
        "2022-10-30,Headphones,Electronics,100,15,1500\n",
        "2022-10-31,Smartphone,Electronics,600,11,6600\n",
        "2022-11-01,Hoodie,Clothing,40,20,800\n",
        "2022-11-02,Smartphone,Electronics,600,10,6000\n",
        "2022-11-03,Speaker,Electronics,80,22,1760\n",
        "2022-11-04,Coat,Clothing,100,18,1800\n",
        "2022-11-05,Smartwatch,Accessories,200,12,2400\n",
        "2022-11-06,Smartphone,Electronics,600,7,4200\n",
        "2022-11-07,Backpack,Bags,50,20,1000\n",
        "2022-11-08,T-Shirt,Clothing,20,30,600\n",
        "2022-11-09,Jeans,Clothing,50,25,1250\n",
        "2022-11-10,Watch,Accessories,150,15,2250\n",
        "2022-11-10,Hoodie,Clothing,40,15,600\n",
        "2022-11-11,Smartphone,Electronics,600,12,7200\n",
        "2022-11-12,Sneakers,Shoes,80,8,640\n",
        "2022-11-13,Wallet,Accessories,,35,1050\n",
        "2022-11-14,Smartwatch,Accessories,200,9,1800\n",
        "2022-11-15,Smartphone,Electronics,600,6,3600\n",
        "2022-11-16,Coat,Clothing,100,8,800\n",
        "2022-11-17,Speaker,Electronics,80,20,1600\n",
        "2022-11-18,Backpack,Bags,50,15,750\n",
        "2022-11-19,T-Shirt,Clothing,20,25,500\n",
        "2022-11-20,Smartphone,Electronics,600,7,4200\n",
        "2022-11-21,Sneakers,Shoes,80,12,960\n",
        "2022-11-22,T-Shirt,Clothing,20,15,300\n",
        "2022-11-23,Smartwatch,Accessories,200,8,1600\n",
        "2022-11-24,Jeans,Clothing,50,20,1000\n",
        "2022-11-25,Smartphone,Electronics,600,9,5400\n",
        "2022-11-26,Watch,Accessories,150,5,750\n",
        "2022-11-27,Coat,Clothing,100,5,500\n",
        "2022-11-28,Headphones,Electronics,100,10,1000\n",
        "2022-11-29,Smartphone,Electronics,600,11,6600\n",
        "2022-11-30,Hoodie,Clothing,40,30,1200\n",
        "2022-12-01,Smartphone,Electronics,600,10,6000\n",
        "2022-12-02,Speaker,Electronics,80,25,2000\n",
        "2022-12-03,Coat,Clothing,100,15,1500\n",
        "2022-12-04,Smartwatch,Accessories,200,10,2000\n",
        "2022-12-05,Smartphone,Electronics,600,7,4200\n",
        "2022-12-06,Backpack,Bgas,50,18,900\n",
        "2022-12-07,T-Shirt,Clothing,20,35,700\n",
        "2022-12-08,Jeans,Clothing,50,10,500\n",
        "2022-12-09,Watch,Accessories,150,12,1800\n",
        "2022-12-10,Hoodie,Clothing,40,20,800\n",
        "2022-12-11,Smartphone,Electronics,600,12,7200\n",
        "2022-12-12,Sneakers,Shoes,80,15,1200\n",
        "2022-12-13,Wallet,Accessories,30,40,1200\n",
        "2022-12-14,Smartwatch,Accessories,200,5,1000\n",
        "2022-12-15,Smartphone,Electronics,600,6,3600\n",
        "2022-12-16,Coat,Clothing,100,8,800\n",
        "2022-12-17,Speaker,Electronics,80,20,1600\n",
        "2022-12-18,Backpack,Bags,50,15,750\n",
        "2022-12-19,T-Shirt,Clothing,20,20,400\n",
        "2022-12-20,Tablet,Electronics,400,6,2400\n",
        "2022-12-21,Smartphone,Electronics,600,7,4200\n",
        "2022-12-22,Sneakers,Shoeses,80,12,960\n",
        "2022-12-23,T-Shirt,Clothing,20,25,500\n",
        "2022-12-24,Smartwatch,Accessories,200,8,1600\n",
        "2022-12-25,Jeans,Clothing,50,15,750\n",
        "2022-12-26,Smartphone,Electronics,600,9,5400\n",
        "2022-12-27,Watch,Accessories,150,5,750\n",
        "2022-12-28,Coat,Clothing,100,5,500\n",
        "2022-12-29,Headphones,Electronics,100,10,1000\n",
        "2022-12-30,Smartphone,Electronics,600,11,6600\n",
        "2022-12-31,Hoodie,Clothing,40,30,1200\n",
        "\"\"\")\n",
        "\n",
        "df = pd.read_csv(data)\n"
      ]
    },
    {
      "cell_type": "code",
      "source": [
        "df = df.dropna()"
      ],
      "metadata": {
        "id": "fR06eMeFz_FO"
      },
      "execution_count": 2,
      "outputs": []
    },
    {
      "cell_type": "markdown",
      "source": [
        "**Total revenue generated by the company over the course of the year:**"
      ],
      "metadata": {
        "id": "Cnhu9Cia0ine"
      }
    },
    {
      "cell_type": "code",
      "source": [
        "total_revenue = df['revenue'].sum()\n",
        "\n",
        "print(total_revenue)"
      ],
      "metadata": {
        "colab": {
          "base_uri": "https://localhost:8080/"
        },
        "id": "tEDH1l2T07_G",
        "outputId": "3cfa4564-4e67-4d0f-8b7b-5a7d3ee6b2f4"
      },
      "execution_count": 4,
      "outputs": [
        {
          "output_type": "stream",
          "name": "stdout",
          "text": [
            "748430.0\n"
          ]
        }
      ]
    },
    {
      "cell_type": "markdown",
      "source": [
        "**Product with the highest revenue and its revenue:**"
      ],
      "metadata": {
        "id": "_crhzo_H1L87"
      }
    },
    {
      "cell_type": "code",
      "source": [
        "product_revenue = df.groupby('product')['revenue'].sum()\n",
        "highest_revenue_product = product_revenue.idxmax()\n",
        "highest_revenue = product_revenue.max()\n",
        "\n",
        "print(highest_revenue)"
      ],
      "metadata": {
        "colab": {
          "base_uri": "https://localhost:8080/"
        },
        "id": "Xwc36jln1MO3",
        "outputId": "c809b6d5-bc01-4f8d-dea8-996128dd3690"
      },
      "execution_count": 5,
      "outputs": [
        {
          "output_type": "stream",
          "name": "stdout",
          "text": [
            "427800.0\n"
          ]
        }
      ]
    },
    {
      "cell_type": "markdown",
      "source": [
        "**Average price of a product sold by the company:**"
      ],
      "metadata": {
        "id": "WnvHoTTq1lzR"
      }
    },
    {
      "cell_type": "code",
      "source": [
        "average_price = df['price'].mean()\n",
        "\n",
        "print(average_price)"
      ],
      "metadata": {
        "colab": {
          "base_uri": "https://localhost:8080/"
        },
        "id": "P3WgR2ev1Mmp",
        "outputId": "e1029031-1bf5-4060-fbcc-61275510bdcc"
      },
      "execution_count": 6,
      "outputs": [
        {
          "output_type": "stream",
          "name": "stdout",
          "text": [
            "210.1917808219178\n"
          ]
        }
      ]
    },
    {
      "cell_type": "markdown",
      "source": [
        "**Total quantity of products sold by the company:**"
      ],
      "metadata": {
        "id": "K9px-4LN2Ltx"
      }
    },
    {
      "cell_type": "code",
      "source": [
        "total_quantity = df['quantity'].sum()\n",
        "print(total_quantity)"
      ],
      "metadata": {
        "colab": {
          "base_uri": "https://localhost:8080/"
        },
        "id": "swWwcx0m1lHW",
        "outputId": "abdad24a-6072-4b60-c6d0-699b7b75863a"
      },
      "execution_count": 7,
      "outputs": [
        {
          "output_type": "stream",
          "name": "stdout",
          "text": [
            "5300.0\n"
          ]
        }
      ]
    },
    {
      "cell_type": "markdown",
      "source": [
        "**Category with highest revenue and its revenue:**"
      ],
      "metadata": {
        "id": "C3mWG3ix2sgM"
      }
    },
    {
      "cell_type": "code",
      "source": [
        "category_revenue = df.groupby('category')['revenue'].sum()\n",
        "highest_revenue_category = category_revenue.idxmax()\n",
        "highest_category_revenue = category_revenue.max()\n",
        "\n",
        "print(highest_category_revenue)"
      ],
      "metadata": {
        "colab": {
          "base_uri": "https://localhost:8080/"
        },
        "id": "4MbtUzIT2sp1",
        "outputId": "a478e1df-c432-41ec-edb0-f84b5eb1e591"
      },
      "execution_count": 8,
      "outputs": [
        {
          "output_type": "stream",
          "name": "stdout",
          "text": [
            "509480.0\n"
          ]
        }
      ]
    },
    {
      "cell_type": "markdown",
      "source": [
        "**Average revenue per sale:**"
      ],
      "metadata": {
        "id": "x7gd4Rbp3BOm"
      }
    },
    {
      "cell_type": "code",
      "source": [
        "average_revenue_per_sale = df['revenue'].mean()\n",
        "\n",
        "print(average_revenue_per_sale)"
      ],
      "metadata": {
        "colab": {
          "base_uri": "https://localhost:8080/"
        },
        "id": "E1VSeqLZ3BY_",
        "outputId": "f77d78ce-8bb0-46e0-8271-82b7fa419918"
      },
      "execution_count": 10,
      "outputs": [
        {
          "output_type": "stream",
          "name": "stdout",
          "text": [
            "2050.4931506849316\n"
          ]
        }
      ]
    },
    {
      "cell_type": "markdown",
      "source": [
        "**Total revenue generated in each quarter of the year:**"
      ],
      "metadata": {
        "id": "cr-Mwd0O3BiL"
      }
    },
    {
      "cell_type": "code",
      "source": [
        "df['date'] = pd.to_datetime(df['date'])\n",
        "df['quarter'] = df['date'].dt.quarter\n",
        "quarterly_revenue = df.groupby('quarter')['revenue'].sum()\n",
        "\n",
        "print(quarterly_revenue)"
      ],
      "metadata": {
        "colab": {
          "base_uri": "https://localhost:8080/"
        },
        "id": "UK4gh0l73Bsy",
        "outputId": "bc2f1680-453b-448a-cd14-30840a765bef"
      },
      "execution_count": 11,
      "outputs": [
        {
          "output_type": "stream",
          "name": "stdout",
          "text": [
            "quarter\n",
            "1    182100.0\n",
            "2    177370.0\n",
            "3    195430.0\n",
            "4    193530.0\n",
            "Name: revenue, dtype: float64\n"
          ]
        }
      ]
    }
  ]
}